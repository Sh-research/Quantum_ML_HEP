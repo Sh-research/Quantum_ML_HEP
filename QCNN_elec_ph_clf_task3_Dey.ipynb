{
  "nbformat": 4,
  "nbformat_minor": 0,
  "metadata": {
    "colab": {
      "name": "QCNN_elec_ph_clf_task3_Dey.ipynb",
      "provenance": [],
      "collapsed_sections": [],
      "include_colab_link": true
    },
    "kernelspec": {
      "display_name": "Python 3",
      "language": "python",
      "name": "python3"
    },
    "accelerator": "GPU"
  },
  "cells": [
    {
      "cell_type": "markdown",
      "metadata": {
        "id": "view-in-github",
        "colab_type": "text"
      },
      "source": [
        "<a href=\"https://colab.research.google.com/github/sharmita01/gsoc_ml4sc_cern/blob/main/QCNN_elec_ph_clf_task3_Dey.ipynb\" target=\"_parent\"><img src=\"https://colab.research.google.com/assets/colab-badge.svg\" alt=\"Open In Colab\"/></a>"
      ]
    },
    {
      "cell_type": "markdown",
      "metadata": {
        "id": "pMVHWFoaeb8B"
      },
      "source": [
        "##QCNN for electron-photon classification"
      ]
    },
    {
      "cell_type": "code",
      "metadata": {
        "id": "Aquwcz-0aHqz"
      },
      "source": [
        "!pip install tensorflow==2.3.1"
      ],
      "execution_count": null,
      "outputs": []
    },
    {
      "cell_type": "code",
      "metadata": {
        "id": "3Pl5PW-ACO9J"
      },
      "source": [
        "!pip install tensorflow-quantum"
      ],
      "execution_count": null,
      "outputs": []
    },
    {
      "cell_type": "markdown",
      "metadata": {
        "id": "qkEIPYuIE2nG"
      },
      "source": [
        "Parts of the notebook are adapted from the examples by tfq"
      ]
    },
    {
      "cell_type": "code",
      "metadata": {
        "id": "QytLEAtoejW5"
      },
      "source": [
        "import tensorflow as tf\n",
        "import tensorflow_quantum as tfq\n",
        "\n",
        "import cirq\n",
        "import sympy\n",
        "import numpy as np\n",
        "\n",
        "# visualization tools\n",
        "%matplotlib inline\n",
        "import matplotlib.pyplot as plt\n",
        "from cirq.contrib.svg import SVGCircuit"
      ],
      "execution_count": null,
      "outputs": []
    },
    {
      "cell_type": "code",
      "metadata": {
        "id": "-tuWTlrEcDrj",
        "colab": {
          "base_uri": "https://localhost:8080/"
        },
        "outputId": "c05b05e2-886d-43e3-b546-1b83382ce3b1"
      },
      "source": [
        "#mounting google drive\n",
        "from google.colab import drive\n",
        "import numpy as np\n",
        "drive.mount(\"/content/drive\")\n",
        "\n"
      ],
      "execution_count": null,
      "outputs": [
        {
          "output_type": "stream",
          "text": [
            "Drive already mounted at /content/drive; to attempt to forcibly remount, call drive.mount(\"/content/drive\", force_remount=True).\n"
          ],
          "name": "stdout"
        }
      ]
    },
    {
      "cell_type": "code",
      "metadata": {
        "id": "fobBe9LZc02v"
      },
      "source": [
        "#load data from the drive\n",
        "data = np.load('/content/drive/My Drive/Datasets/electron-photon.npz')"
      ],
      "execution_count": null,
      "outputs": []
    },
    {
      "cell_type": "code",
      "metadata": {
        "id": "0dJEF2O_c8Dz"
      },
      "source": [
        "#inspect data\n",
        "import matplotlib.pyplot as plt\n",
        "train_data = data[\"x_train\"]\n",
        "\n",
        "photon = train_data[np.where(data[\"y_train\"]==0)]\n",
        "electron = train_data[np.where(data[\"y_train\"]==1)]\n"
      ],
      "execution_count": null,
      "outputs": []
    },
    {
      "cell_type": "code",
      "metadata": {
        "id": "iUrvTCU1hDgP"
      },
      "source": [
        "import matplotlib.pyplot as plt\n",
        "\n",
        "threshold = 0.5\n",
        "x_train = data['x_train'][..., tf.newaxis]\n",
        "y_train = data['y_train']\n",
        "x_test = data['x_test'][..., tf.newaxis]/np.max(x_train)\n",
        "y_test = data['y_test']\n",
        "resize_shape = (100,4,4,1)\n",
        "x_train_small = np.empty(resize_shape)\n",
        "x_test_small = np.empty(resize_shape)\n",
        "\n",
        "x_train_small_bin = np.empty(resize_shape)\n",
        "x_test_small_bin = np.empty(resize_shape)\n",
        "\n",
        "#reduce data dimension\n",
        "for image in range(x_train.shape[0]):\n",
        "  x_train_small[image] = tf.image.resize_with_crop_or_pad(x_train[image], 4,4).numpy()\n",
        "for image in range(x_test.shape[0]):\n",
        "  x_test_small[image] = tf.image.resize_with_crop_or_pad(x_test[image], 4,4).numpy()\n",
        "\n",
        "x_train_small_scaled = tf.keras.utils.normalize(x_train_small, axis=-1, order=2)\n",
        "x_test_small_scaled =  tf.keras.utils.normalize(x_test_small, axis=-1, order=2)                                                        #x_test_small/np.max(x_train_small)\n",
        "\n",
        "\n",
        "#binary thresholding\n",
        "for image in range(x_train.shape[0]):\n",
        "  x_train_small_bin[image] = np.array(x_train_small_scaled[image] > threshold, dtype=np.float32)\n",
        "for image in range(x_test.shape[0]):\n",
        "  x_test_small_bin[image] = np.array(x_test_small_scaled[image] > threshold, dtype=np.float32)\n"
      ],
      "execution_count": null,
      "outputs": []
    },
    {
      "cell_type": "code",
      "metadata": {
        "id": "4APgTxvuabW5"
      },
      "source": [
        "plt.imshow(x_train_small[9,:,:,0])\n",
        "\n",
        "print(x_train_small_bin[0,:,:,0])"
      ],
      "execution_count": null,
      "outputs": []
    },
    {
      "cell_type": "markdown",
      "metadata": {
        "id": "NeAZWVrtqu5m"
      },
      "source": [
        "The qubits at pixel indices with values that exceed the threshold of 0.5, are rotated through an X  gate."
      ]
    },
    {
      "cell_type": "code",
      "metadata": {
        "id": "7ReAG8JrqZI6"
      },
      "source": [
        "def to_circuit(data_):\n",
        "    \"\"\"Encode truncated classical image into quantum datapoint.\"\"\"\n",
        "    val = np.ndarray.flatten(data_)\n",
        "    qubits = cirq.GridQubit.rect(4, 4)\n",
        "    circuit = cirq.Circuit()\n",
        "    for i, value in enumerate(val):\n",
        "        if value:\n",
        "            circuit.append(cirq.X(qubits[i]))\n",
        "    return circuit\n",
        "\n",
        "\n",
        "x_train_circ = [to_circuit(x) for x in x_train_small_bin]\n",
        "x_test_circ = [to_circuit(x) for x in x_test_small_bin]\n",
        "\n",
        "x_train_tfcirc = tfq.convert_to_tensor(x_train_circ)\n",
        "x_test_tfcirc = tfq.convert_to_tensor(x_test_circ)"
      ],
      "execution_count": null,
      "outputs": []
    },
    {
      "cell_type": "code",
      "metadata": {
        "id": "VyRA2gBlFqma",
        "colab": {
          "base_uri": "https://localhost:8080/"
        },
        "outputId": "561c19ac-15df-428c-f70a-7d30f4eefff5"
      },
      "source": [
        "print (x_train_tfcirc.shape)\n",
        "print (y_train.shape)"
      ],
      "execution_count": null,
      "outputs": [
        {
          "output_type": "stream",
          "text": [
            "(100,)\n",
            "(100,)\n"
          ],
          "name": "stdout"
        }
      ]
    },
    {
      "cell_type": "code",
      "metadata": {
        "id": "cRNp5Eu-HAD7"
      },
      "source": [
        "SVGCircuit(x_test_circ[0])"
      ],
      "execution_count": null,
      "outputs": []
    },
    {
      "cell_type": "code",
      "metadata": {
        "id": "PYkbFqVmV072"
      },
      "source": [
        "def cluster_state_circuit(bits):\n",
        "    \"\"\"Return a cluster state on the qubits in `bits`.\"\"\"\n",
        "    circuit = cirq.Circuit()\n",
        "    circuit.append(cirq.H.on_each(bits))\n",
        "    for this_bit, next_bit in zip(bits, bits[1:] + [bits[0]]):\n",
        "        circuit.append(cirq.CZ(this_bit, next_bit))\n",
        "    return circuit"
      ],
      "execution_count": null,
      "outputs": []
    },
    {
      "cell_type": "markdown",
      "metadata": {
        "id": "J58W9oe3xIox"
      },
      "source": [
        "QCNN layers"
      ]
    },
    {
      "cell_type": "code",
      "metadata": {
        "id": "oNRGOqky2exY"
      },
      "source": [
        "def one_qubit_unitary(bit, symbols):\n",
        "    \"\"\"Cirq circuit enacting a rotation of the bloch sphere about the X,\n",
        "    Y and Z axis, that depends on the values in `symbols`.\n",
        "    \"\"\"\n",
        "    return cirq.Circuit(\n",
        "        cirq.X(bit)**symbols[0],\n",
        "        cirq.Y(bit)**symbols[1],\n",
        "        cirq.Z(bit)**symbols[2])\n",
        "\n",
        "\n",
        "def two_qubit_unitary(bits, symbols):\n",
        "    \"\"\"Cirq circuit that creates an arbitrary two qubit unitary.\"\"\"\n",
        "    circuit = cirq.Circuit()\n",
        "    circuit += one_qubit_unitary(bits[0], symbols[0:3])\n",
        "    circuit += one_qubit_unitary(bits[1], symbols[3:6])\n",
        "    circuit += [cirq.ZZ(*bits)**symbols[6]]\n",
        "    circuit += [cirq.YY(*bits)**symbols[7]]\n",
        "    circuit += [cirq.XX(*bits)**symbols[8]]\n",
        "    circuit += one_qubit_unitary(bits[0], symbols[9:12])\n",
        "    circuit += one_qubit_unitary(bits[1], symbols[12:])\n",
        "    return circuit\n",
        "\n",
        "\n",
        "def two_qubit_pool(source_qubit, sink_qubit, symbols):\n",
        "    \"\"\"Cirq circuit for parameterized 'pooling', that\n",
        "    reduce entanglement down from two qubits to just one.\"\"\"\n",
        "    pool_circuit = cirq.Circuit()\n",
        "    sink_basis_selector = one_qubit_unitary(sink_qubit, symbols[0:3])\n",
        "    source_basis_selector = one_qubit_unitary(source_qubit, symbols[3:6])\n",
        "    pool_circuit.append(sink_basis_selector)\n",
        "    pool_circuit.append(source_basis_selector)\n",
        "    pool_circuit.append(cirq.CNOT(control=source_qubit, target=sink_qubit))\n",
        "    pool_circuit.append(sink_basis_selector**-1)\n",
        "    return pool_circuit"
      ],
      "execution_count": null,
      "outputs": []
    },
    {
      "cell_type": "code",
      "metadata": {
        "id": "1Fa19Lzb3wnR"
      },
      "source": [
        "def quantum_conv_circuit(bits, symbols):\n",
        "    \"\"\"Quantum Convolution Layer.\n",
        "    Return a Cirq circuit with the cascade of `two_qubit_unitary` applied\n",
        "    to all pairs of qubits in `bits`.\n",
        "    \"\"\"\n",
        "    circuit = cirq.Circuit()\n",
        "    for first, second in zip(bits[0::2], bits[1::2]):\n",
        "        circuit += two_qubit_unitary([first, second], symbols)\n",
        "    for first, second in zip(bits[1::2], bits[2::2] + [bits[0]]):\n",
        "        circuit += two_qubit_unitary([first, second], symbols)\n",
        "    return circuit"
      ],
      "execution_count": null,
      "outputs": []
    },
    {
      "cell_type": "markdown",
      "metadata": {
        "id": "3svBAfap4xhP"
      },
      "source": [
        "Quantum pooling"
      ]
    },
    {
      "cell_type": "code",
      "metadata": {
        "id": "jD3fgcWO4yEU"
      },
      "source": [
        "def quantum_pool_circuit(source_bits, sink_bits, symbols):\n",
        "    \"\"\"layer for a quantum pooling operation.\n",
        "    \"\"\"\n",
        "    circuit = cirq.Circuit()\n",
        "    for source, sink in zip(source_bits, sink_bits):\n",
        "        circuit += two_qubit_pool(source, sink, symbols)\n",
        "    return circuit"
      ],
      "execution_count": null,
      "outputs": []
    },
    {
      "cell_type": "markdown",
      "metadata": {
        "id": "23VcPLT45Lg7"
      },
      "source": [
        "Model"
      ]
    },
    {
      "cell_type": "code",
      "metadata": {
        "id": "vzEsY6-n5NR0",
        "colab": {
          "base_uri": "https://localhost:8080/",
          "height": 232
        },
        "outputId": "5b042fec-a7bc-48a3-8d27-73bbe0f6bed1"
      },
      "source": [
        "def create_model_circuit(qubits):\n",
        "    \"\"\"sequence of alternating convolution and pooling operators \n",
        "    \"\"\"\n",
        "    model_circuit = cirq.Circuit()\n",
        "    symbols = sympy.symbols('qconv0:63')\n",
        "    \n",
        "    model_circuit += quantum_conv_circuit(qubits, symbols[0:15])\n",
        "    model_circuit += quantum_pool_circuit(qubits[:4], qubits[4:],\n",
        "                                          symbols[15:21])\n",
        "    model_circuit += quantum_conv_circuit(qubits[4:], symbols[21:36])\n",
        "    model_circuit += quantum_pool_circuit(qubits[4:6], qubits[6:],\n",
        "                                          symbols[36:42])\n",
        "    model_circuit += quantum_conv_circuit(qubits[6:], symbols[42:57])\n",
        "    model_circuit += quantum_pool_circuit([qubits[6]], [qubits[7]],\n",
        "                                          symbols[57:63])\n",
        "    return model_circuit\n",
        "\n",
        "\n",
        "# qubits and readout operators in Cirq.\n",
        "cluster_state_bits = cirq.GridQubit.rect(1, 10)\n",
        "readout_operators = cirq.Z(cluster_state_bits[-1])\n",
        "\n",
        "input_ = tf.keras.Input(shape=(), dtype=tf.dtypes.string)\n",
        "cluster_state = tfq.layers.AddCircuit()(\n",
        "    input_, prepend=cluster_state_circuit(cluster_state_bits))\n",
        "\n",
        "quantum_model = tfq.layers.PQC(create_model_circuit(cluster_state_bits),\n",
        "                               readout_operators)(cluster_state)\n",
        "\n",
        "qcnn_model = tf.keras.Model(inputs=[input_], outputs=[quantum_model])\n",
        "\n",
        "# visualize model\n",
        "tf.keras.utils.plot_model(qcnn_model,\n",
        "                          show_shapes=True,\n",
        "                          show_layer_names=False,\n",
        "                          dpi=70)"
      ],
      "execution_count": null,
      "outputs": [
        {
          "output_type": "execute_result",
          "data": {
            "image/png": "[encoded data removed]",
            "text/plain": [
              "<IPython.core.display.Image object>"
            ]
          },
          "metadata": {
            "tags": []
          },
          "execution_count": 16
        }
      ]
    },
    {
      "cell_type": "markdown",
      "metadata": {
        "id": "9jqTEe5VSbug"
      },
      "source": [
        "Model training"
      ]
    },
    {
      "cell_type": "code",
      "metadata": {
        "id": "_TFkAm1sQZEN"
      },
      "source": [
        "@tf.function\n",
        "def custom_accuracy(y_true, y_pred):\n",
        "    y_true = tf.squeeze(y_true)\n",
        "    y_pred = tf.map_fn(lambda x: 1.0 if x >= 0.5 else 0.0, y_pred)\n",
        "    return tf.keras.backend.mean(tf.keras.backend.equal(y_true, y_pred))\n",
        "\n",
        "\n",
        "qcnn_model.compile(optimizer=tf.keras.optimizers.Adam(learning_rate=0.01),\n",
        "                   loss=tf.losses.mse,\n",
        "                   metrics=[custom_accuracy])\n",
        "\n",
        "history = qcnn_model.fit(x=x_train_tfcirc,\n",
        "                         y=y_train,\n",
        "                         batch_size=32,\n",
        "                         epochs=15,\n",
        "                         verbose=1,\n",
        "                         validation_data=(x_test_tfcirc, y_test))"
      ],
      "execution_count": null,
      "outputs": []
    },
    {
      "cell_type": "code",
      "metadata": {
        "colab": {
          "base_uri": "https://localhost:8080/"
        },
        "id": "Llf1uYV4BO1u",
        "outputId": "f8477f09-da15-4d82-cb89-6253e12cd561"
      },
      "source": [
        "#Validation accuracy from the last epoch\n",
        "print ((qcnn_model.history.history['val_custom_accuracy'][-1]))"
      ],
      "execution_count": null,
      "outputs": [
        {
          "output_type": "stream",
          "text": [
            "0.5859375\n"
          ],
          "name": "stdout"
        }
      ]
    },
    {
      "cell_type": "code",
      "metadata": {
        "id": "2tiCJOb5Qzcr",
        "colab": {
          "base_uri": "https://localhost:8080/",
          "height": 295
        },
        "outputId": "6968980d-bded-47a0-c69b-53d3255c4680"
      },
      "source": [
        "plt.plot(history.history['loss'][1:], label='Training')\n",
        "plt.plot(history.history['val_loss'][1:], label='Validation')\n",
        "plt.title('Quantum CNN loss plot for electron-photon classification')\n",
        "plt.xlabel('Epochs')\n",
        "plt.ylabel('Loss')\n",
        "plt.legend()\n",
        "plt.show()"
      ],
      "execution_count": null,
      "outputs": [
        {
          "output_type": "display_data",
          "data": {
            "image/png": "[encoded data removed]",
            "text/plain": [
              "<Figure size 432x288 with 1 Axes>"
            ]
          },
          "metadata": {
            "tags": [],
            "needs_background": "light"
          }
        }
      ]
    }
  ]
}