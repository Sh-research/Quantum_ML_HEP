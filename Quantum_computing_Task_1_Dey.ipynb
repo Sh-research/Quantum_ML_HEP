{
  "nbformat": 4,
  "nbformat_minor": 0,
  "metadata": {
    "colab": {
      "name": "Quantum_computing_Task_1.ipynb",
      "provenance": [],
      "collapsed_sections": []
    },
    "kernelspec": {
      "display_name": "Python 3",
      "name": "python3"
    }
  },
  "cells": [
    {
      "cell_type": "code",
      "metadata": {
        "id": "bd9529db1c0b",
        "colab": {
          "base_uri": "https://localhost:8080/"
        },
        "outputId": "c6fec2f2-db5f-4da8-ea5a-87b23e570f6f"
      },
      "source": [
        "try:\n",
        "    import cirq\n",
        "except ImportError:\n",
        "    print(\"installing cirq...\")\n",
        "    !pip install --quiet cirq\n",
        "    print(\"installed cirq.\")"
      ],
      "execution_count": null,
      "outputs": [
        {
          "output_type": "stream",
          "text": [
            "installing cirq...\n",
            "\u001b[K     |████████████████████████████████| 1.8MB 7.6MB/s \n",
            "\u001b[K     |████████████████████████████████| 1.3MB 52.3MB/s \n",
            "\u001b[?25hinstalled cirq.\n"
          ],
          "name": "stdout"
        }
      ]
    },
    {
      "cell_type": "code",
      "metadata": {
        "id": "PsgSo-H0Os8X"
      },
      "source": [
        "import cirq\n",
        "import numpy as np\n"
      ],
      "execution_count": null,
      "outputs": []
    },
    {
      "cell_type": "markdown",
      "metadata": {
        "id": "FH7ULJlhHfaw"
      },
      "source": [
        "1) a) Initialize a circuit and create qubits"
      ]
    },
    {
      "cell_type": "code",
      "metadata": {
        "id": "RPdS-Q1fKKEm"
      },
      "source": [
        "circuit = cirq.Circuit()\n",
        "q0 = cirq.NamedQubit('qbit1')\n",
        "q1 = cirq.NamedQubit('qbit2')\n",
        "q2 = cirq.NamedQubit('qbit3')\n",
        "q3 = cirq.NamedQubit('qbit4')\n",
        "q4 = cirq.NamedQubit('qbit5')\n",
        "\n",
        "\n"
      ],
      "execution_count": null,
      "outputs": []
    },
    {
      "cell_type": "markdown",
      "metadata": {
        "id": "dxat7er1HxHN"
      },
      "source": [
        "1) b) Apply Hadamard op"
      ]
    },
    {
      "cell_type": "code",
      "metadata": {
        "id": "P8qzfRSbKVp_"
      },
      "source": [
        "circuit.append(cirq.H(q0))\n",
        "circuit.append(cirq.H(q1))\n",
        "circuit.append(cirq.H(q2))\n",
        "circuit.append(cirq.H(q3))\n",
        "circuit.append(cirq.H(q4))\n",
        "\n"
      ],
      "execution_count": null,
      "outputs": []
    },
    {
      "cell_type": "markdown",
      "metadata": {
        "id": "8M6eBqu5H7Of"
      },
      "source": [
        "1) c) Apply CNOT op"
      ]
    },
    {
      "cell_type": "code",
      "metadata": {
        "id": "ehJZ0890LJpO"
      },
      "source": [
        "circuit.append(cirq.CNOT(q0,q1))\n",
        "circuit.append(cirq.CNOT(q1,q2))\n",
        "circuit.append(cirq.CNOT(q2,q3))\n",
        "circuit.append(cirq.CNOT(q3,q4))\n"
      ],
      "execution_count": null,
      "outputs": []
    },
    {
      "cell_type": "markdown",
      "metadata": {
        "id": "MiK3fmNkIWaU"
      },
      "source": [
        "1) d) Swap (0,4)"
      ]
    },
    {
      "cell_type": "code",
      "metadata": {
        "id": "3fNZo9qbSwBA"
      },
      "source": [
        "circuit.append(cirq.SWAP(q0,q4))"
      ],
      "execution_count": null,
      "outputs": []
    },
    {
      "cell_type": "markdown",
      "metadata": {
        "id": "ZphgqyFTIcUs"
      },
      "source": [
        "1) e,f) Rotate with pi/2 and plot circuit"
      ]
    },
    {
      "cell_type": "code",
      "metadata": {
        "colab": {
          "base_uri": "https://localhost:8080/"
        },
        "id": "VRej5P5TS5JD",
        "outputId": "6df3965d-393e-4c1e-a979-6d9e426cc8d1"
      },
      "source": [
        "R_phi_gate = cirq.rx(np.pi/2)\n",
        "circuit.append(R_phi_gate(q0))\n",
        "circuit.append(R_phi_gate(q1))\n",
        "circuit.append(R_phi_gate(q2))\n",
        "circuit.append(R_phi_gate(q3))\n",
        "circuit.append(R_phi_gate(q4))\n",
        "print (circuit)"
      ],
      "execution_count": null,
      "outputs": [
        {
          "output_type": "stream",
          "text": [
            "                                            ┌─────────┐\n",
            "qbit1: ───H───@──────────────────────────────×────────────Rx(0.5π)───\n",
            "              │                              │\n",
            "qbit2: ───H───X───@───Rx(0.5π)───────────────┼───────────────────────\n",
            "                  │                          │\n",
            "qbit3: ───H───────X───@──────────Rx(0.5π)────┼───────────────────────\n",
            "                      │                      │\n",
            "qbit4: ───H───────────X──────────@───────────┼Rx(0.5π)───────────────\n",
            "                                 │           │\n",
            "qbit5: ───H──────────────────────X───────────×────────────Rx(0.5π)───\n",
            "                                            └─────────┘\n"
          ],
          "name": "stdout"
        }
      ]
    },
    {
      "cell_type": "markdown",
      "metadata": {
        "id": "bFyqD7mLIwVr"
      },
      "source": [
        "2) Create a circuit that is a series of small cirq.Rx rotations and plot the probability\n",
        "of measuring the state in the |0⟩ state."
      ]
    },
    {
      "cell_type": "code",
      "metadata": {
        "id": "1qXBzF4IobY7"
      },
      "source": [
        "q_c = cirq.NamedQubit('q_c')\n",
        "circuit_2 = cirq.Circuit()\n",
        "circuit_2.append(cirq.rx(np.pi/60)(q_c))\n",
        "circuit_2.append(cirq.rx(np.pi/60)(q_c))\n",
        "circuit_2.append(cirq.rx(np.pi/60)(q_c))\n",
        "circuit_2.append(cirq.rx(np.pi/60)(q_c))\n",
        "circuit_2.append(cirq.rx(np.pi/60)(q_c))\n",
        "\n",
        "\n",
        "circuit_2.append(cirq.measure(q_c, key='r'))"
      ],
      "execution_count": null,
      "outputs": []
    },
    {
      "cell_type": "code",
      "metadata": {
        "colab": {
          "base_uri": "https://localhost:8080/"
        },
        "id": "tiMcrFLl7TQ3",
        "outputId": "b35db092-8e1c-470a-f9ed-b1c1af540336"
      },
      "source": [
        "simulation = cirq.Simulator()\n",
        "out = simulation.run(circuit_2, repetitions =20)\n",
        "\n",
        "print (\"output: \", out)"
      ],
      "execution_count": null,
      "outputs": [
        {
          "output_type": "stream",
          "text": [
            "output:  r=00000000000000000000\n"
          ],
          "name": "stdout"
        }
      ]
    },
    {
      "cell_type": "markdown",
      "metadata": {
        "id": "zSlhCz5fJUuA"
      },
      "source": [
        "100% probability"
      ]
    }
  ]
}