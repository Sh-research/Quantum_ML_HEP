{
  "nbformat": 4,
  "nbformat_minor": 0,
  "metadata": {
    "colab": {
      "name": "QML_task5_Dey.ipynb",
      "provenance": [],
      "collapsed_sections": [],
      "authorship_tag": "ABX9TyOZQAZWV5vbC62mNPPsb/MH",
      "include_colab_link": true
    },
    "kernelspec": {
      "name": "python3",
      "display_name": "Python 3"
    },
    "language_info": {
      "name": "python"
    }
  },
  "cells": [
    {
      "cell_type": "markdown",
      "metadata": {
        "id": "view-in-github",
        "colab_type": "text"
      },
      "source": [
        "<a href=\"https://colab.research.google.com/github/sharmita01/gsoc_ml4sc_cern/blob/main/QML_task5_Dey.ipynb\" target=\"_parent\"><img src=\"https://colab.research.google.com/assets/colab-badge.svg\" alt=\"Open In Colab\"/></a>"
      ]
    },
    {
      "cell_type": "markdown",
      "metadata": {
        "id": "O2nVYdU3WNXD"
      },
      "source": [
        "## Quantum Machine Learning\n",
        "\n",
        "Quantum machine learning generally refers to machine learning/deep learning techniques with quantum computers or quantum computation. The smallest unit of quantum information, the *qubits* are a superposition of two basis states, [0,1], and therefore, can contain more information *densely*, compared to classical bits. The quantum computations or quantum circuits can be trained like deep neural networks. Quantum data can be thought of as a high-dimensional representation of classical data that can be fed as inputs to the trainable quantum circuits. By replacing classical computation with quantum computation for training neural networks one can\n",
        "\n",
        "*   speed up the training process by facilitating a faster optimization.\n",
        "*   require much less parameters to attain comparable accuracy with classical computations.\n",
        "\n",
        "My interest on pursuing a project with quantum machine learning would be to investigate whether or not replacing classical neural networks with quantum circuits and training them in a similar fashion as that of the classical neural networks could end up in better convergence of the models that could not only predict well on the training set but also generalize to unseen and perturbed inputs. Furthermore, it would also be interesting to investigate the same by using a hybrid quantum-classical network where initial layers of quantum computation can be followed by classical computation. I would like to investigate more into the quantum comvolutional neural networks and work on tensorflow quantum computing library. Alternatively, PennyLane quantum libary would also be a good option to work with.\n",
        "\n",
        "Another interesting and ambitious direction would be to have graph neural network computation with quantum circuits. "
      ]
    }
  ]
}