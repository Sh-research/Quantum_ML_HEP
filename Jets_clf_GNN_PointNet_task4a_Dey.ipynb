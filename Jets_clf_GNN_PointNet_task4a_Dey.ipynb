{
  "nbformat": 4,
  "nbformat_minor": 0,
  "metadata": {
    "accelerator": "GPU",
    "colab": {
      "name": "Jets_clf_GNN_PointNet_task4_Dey.ipynb",
      "provenance": [],
      "collapsed_sections": [],
      "include_colab_link": true
    },
    "kernelspec": {
      "display_name": "Python 3",
      "name": "python3"
    }
  },
  "cells": [
    {
      "cell_type": "markdown",
      "metadata": {
        "id": "view-in-github",
        "colab_type": "text"
      },
      "source": [
        "<a href=\"https://colab.research.google.com/github/sharmita01/gsoc_ml4sc_cern/blob/main/Jets_clf_GNN_PointNet_task4a_Dey.ipynb\" target=\"_parent\"><img src=\"https://colab.research.google.com/assets/colab-badge.svg\" alt=\"Open In Colab\"/></a>"
      ]
    },
    {
      "cell_type": "markdown",
      "metadata": {
        "id": "saWwVV2BZqs-"
      },
      "source": [
        "## Jet classification PointNet architecture: task 4, architecture I\n"
      ]
    },
    {
      "cell_type": "code",
      "metadata": {
        "colab": {
          "base_uri": "https://localhost:8080/"
        },
        "id": "fxsEpzXeKlYg",
        "outputId": "e4d2af76-d164-470e-806a-8c5d4abde977"
      },
      "source": [
        "# Install required packages.\n",
        "!pip install -q torch-scatter -f https://pytorch-geometric.com/whl/torch-1.8.0+cu101.html\n",
        "!pip install -q torch-sparse -f https://pytorch-geometric.com/whl/torch-1.8.0+cu101.html\n",
        "!pip install -q torch-cluster -f https://pytorch-geometric.com/whl/torch-1.8.0+cu101.html\n",
        "!pip install -q torch-geometric\n",
        "\n",
        "# Helper functions for visualization.\n",
        "%matplotlib inline\n",
        "import matplotlib.pyplot as plt\n",
        "from mpl_toolkits.mplot3d import Axes3D\n",
        "\n",
        "def visualize_mesh(pos, face):\n",
        "    fig = plt.figure()\n",
        "    ax = fig.gca(projection='3d')\n",
        "    ax.axes.xaxis.set_ticklabels([])\n",
        "    ax.axes.yaxis.set_ticklabels([])\n",
        "    ax.axes.zaxis.set_ticklabels([])\n",
        "    ax.plot_trisurf(pos[:, 0], pos[:, 1], pos[:, 2], triangles=data.face.t(), antialiased=False)\n",
        "    plt.show()\n",
        "\n",
        "\n",
        "def visualize_points(pos, edge_index=None, index=None):\n",
        "    fig = plt.figure(figsize=(4, 4))\n",
        "    if edge_index is not None:\n",
        "        for (src, dst) in edge_index.t().tolist():\n",
        "             src = pos[src].tolist()\n",
        "             dst = pos[dst].tolist()\n",
        "             plt.plot([src[0], dst[0]], [src[1], dst[1]], linewidth=1, color='black')\n",
        "    if index is None:\n",
        "        plt.scatter(pos[:, 0], pos[:, 1], s=50, zorder=1000)\n",
        "    else:\n",
        "       mask = torch.zeros(pos.size(0), dtype=torch.bool)\n",
        "       mask[index] = True\n",
        "       plt.scatter(pos[~mask, 0], pos[~mask, 1], s=50, color='lightgray', zorder=1000)\n",
        "       plt.scatter(pos[mask, 0], pos[mask, 1], s=50, zorder=1000)\n",
        "    plt.axis('off')\n",
        "    plt.show()"
      ],
      "execution_count": null,
      "outputs": [
        {
          "output_type": "stream",
          "text": [
            "\u001b[K     |████████████████████████████████| 2.6MB 31.6MB/s \n",
            "\u001b[K     |████████████████████████████████| 1.5MB 43.5MB/s \n",
            "\u001b[K     |████████████████████████████████| 1.0MB 25.1MB/s \n",
            "\u001b[K     |████████████████████████████████| 194kB 17.9MB/s \n",
            "\u001b[K     |████████████████████████████████| 235kB 38.9MB/s \n",
            "\u001b[K     |████████████████████████████████| 2.2MB 53.2MB/s \n",
            "\u001b[K     |████████████████████████████████| 51kB 9.0MB/s \n",
            "\u001b[?25h  Building wheel for torch-geometric (setup.py) ... \u001b[?25l\u001b[?25hdone\n"
          ],
          "name": "stdout"
        }
      ]
    },
    {
      "cell_type": "markdown",
      "metadata": {
        "id": "mPknydxiIXO3"
      },
      "source": [
        "Parts of the notebook has been adapted from the GNN PyTorch Geometric tutotials"
      ]
    },
    {
      "cell_type": "markdown",
      "metadata": {
        "id": "QO6XlgDeAgYd"
      },
      "source": [
        "##Get data"
      ]
    },
    {
      "cell_type": "code",
      "metadata": {
        "colab": {
          "base_uri": "https://localhost:8080/"
        },
        "id": "zJVSJ8llAjsE",
        "outputId": "6fcbfe7f-0faf-4c89-cb7e-aac19728c166"
      },
      "source": [
        "#mount Google drive\n",
        "from google.colab import drive\n",
        "import numpy as np\n",
        "drive.mount(\"/content/drive\")\n",
        "\n",
        "data = np.load('/content/drive/My Drive/graph_NN_datastets_jet_clf/QG_jets_1.npz')"
      ],
      "execution_count": null,
      "outputs": [
        {
          "output_type": "stream",
          "text": [
            "Mounted at /content/drive\n"
          ],
          "name": "stdout"
        }
      ]
    },
    {
      "cell_type": "markdown",
      "metadata": {
        "id": "jusvwHIeNuRe"
      },
      "source": [
        "## Training inputs and training labels\n"
      ]
    },
    {
      "cell_type": "code",
      "metadata": {
        "id": "5SdsjLLdLH6g"
      },
      "source": [
        "data_X = data['X']\n",
        "data_y = data['y']"
      ],
      "execution_count": null,
      "outputs": []
    },
    {
      "cell_type": "code",
      "metadata": {
        "colab": {
          "base_uri": "https://localhost:8080/"
        },
        "id": "1WYf0fPsUWxY",
        "outputId": "252d58df-8276-4cdb-96f8-8de6f0d90d9e"
      },
      "source": [
        "print (data_X.shape)\n",
        "print (data_y.shape)"
      ],
      "execution_count": null,
      "outputs": [
        {
          "output_type": "stream",
          "text": [
            "(100000, 134, 4)\n",
            "(100000,)\n"
          ],
          "name": "stdout"
        }
      ]
    },
    {
      "cell_type": "markdown",
      "metadata": {
        "id": "bO9T5gGOIzFH"
      },
      "source": [
        "##Constructing edge indexes for point cloud data\n",
        "\n",
        "\n"
      ]
    },
    {
      "cell_type": "code",
      "metadata": {
        "colab": {
          "base_uri": "https://localhost:8080/",
          "height": 265
        },
        "id": "Euh4CL7v6Ede",
        "outputId": "94bb6cd9-9230-46c4-cd05-6327b91f0b9d"
      },
      "source": [
        "import torch\n",
        "from torch_cluster import knn_graph\n",
        "\n",
        "data_x_0_edge_idx = knn_graph(torch.tensor(data_X[0]), k=16)\n",
        "print(data_x_0_edge_idx.shape)\n",
        "visualize_points(data_X[0], edge_index=data_x_0_edge_idx)"
      ],
      "execution_count": null,
      "outputs": [
        {
          "output_type": "stream",
          "text": [
            "torch.Size([2, 2187])\n"
          ],
          "name": "stdout"
        },
        {
          "output_type": "display_data",
          "data": {
            "image/png": "[encoded data removed]",
            "text/plain": [
              "<Figure size 288x288 with 1 Axes>"
            ]
          },
          "metadata": {
            "tags": [],
            "needs_background": "light"
          }
        }
      ]
    },
    {
      "cell_type": "code",
      "metadata": {
        "id": "TkV7DDBxLmUR"
      },
      "source": [
        "from torch.nn import Sequential, Linear, ReLU\n",
        "from torch_geometric.nn import MessagePassing\n",
        "\n",
        "\n",
        "class PointNetLayer(MessagePassing):\n",
        "    def __init__(self, in_channels, out_channels):\n",
        "        # Message passing with \"max\" aggregation.\n",
        "        super(PointNetLayer, self).__init__('max')\n",
        "        # the number of input features = hidden node dim + point dim, where point dim = 4, i.e., ( pt, rapidity, azimuthal angle, and pdgid.)\n",
        "        print (in_channels)\n",
        "        self.fc = Sequential(Linear(in_channels + 4, out_channels),\n",
        "                              ReLU(),\n",
        "                              Linear(out_channels, out_channels))\n",
        "        \n",
        "    def forward(self, h, pos, edge_index):\n",
        "        # propagating messages.\n",
        "        return self.propagate(edge_index, h=h, pos=pos)\n",
        "    \n",
        "    def message(self, h_j, pos_j, pos_i):\n",
        "        #print('h_j',h_j.shape)\n",
        "        #print ('pos_j',pos_j.shape)\n",
        "        #print ('pos_i',pos_i.shape)\n",
        "        # h_j : features of neighboring nodes --> shape [num_edges, in_channels]\n",
        "        # pos_j: position of neighboring nodes --> shape [num_edges, 4]\n",
        "        # pos_i: position of central nodes --> shape [num_edges, 4]\n",
        "\n",
        "        input = pos_j - pos_i  # spatial relation.\n",
        "\n",
        "        if h_j is not None:\n",
        "            input = torch.cat([h_j, input], dim=-1)\n",
        "\n",
        "        return self.fc(input)  "
      ],
      "execution_count": null,
      "outputs": []
    },
    {
      "cell_type": "code",
      "metadata": {
        "id": "Idjr2nAeLrrp"
      },
      "source": [
        "import torch\n",
        "import torch.nn.functional as F\n",
        "from torch_cluster import knn_graph\n",
        "from torch_geometric.nn import global_max_pool\n",
        "\n",
        "\n",
        "class PointNet(torch.nn.Module):\n",
        "    def __init__(self):\n",
        "        super(PointNet, self).__init__()\n",
        "\n",
        "        torch.manual_seed(42)\n",
        "        self.conv1 = PointNetLayer(4, 64)\n",
        "        self.conv2 = PointNetLayer(64, 32)\n",
        "        self.classifier = Linear(32, 2) #num_classes = 2, i.e, Quark or Gluon\n",
        "        \n",
        "    def forward(self, pos, batch):\n",
        "        # Compute the kNN graph:\n",
        "        edge_index = torch.tensor(knn_graph(pos, k=16, batch=batch, loop=True))\n",
        "\n",
        "        # 3. bipartite message passing.\n",
        "        h = self.conv1(h=pos, pos=pos, edge_index=edge_index)\n",
        "        h = h.relu()\n",
        "        h = self.conv2(h=h, pos=pos, edge_index=edge_index)\n",
        "        h = h.relu()\n",
        "\n",
        "        # 4. Global Pooling.\n",
        "        h = global_max_pool(h, batch) \n",
        "        \n",
        "        # 5. Classifier.\n",
        "        return self.classifier(h)\n"
      ],
      "execution_count": null,
      "outputs": []
    },
    {
      "cell_type": "markdown",
      "metadata": {
        "id": "GTii7UeAOnrv"
      },
      "source": [
        "## Training"
      ]
    },
    {
      "cell_type": "code",
      "metadata": {
        "colab": {
          "base_uri": "https://localhost:8080/"
        },
        "id": "hUbRw_BhLuXr",
        "outputId": "bcd95078-364c-42d0-8fee-c8806b0dd8f7"
      },
      "source": [
        "from torch_geometric.data import Data, DataLoader\n",
        "\n",
        "train_data_list =  [Data(pos=torch.tensor(data_X[i]), \n",
        "                         y=torch.tensor(data_y[i])) for i in range(8000)]\n",
        "print(len(train_data_list))\n",
        "test_data_list = [Data(pos=torch.tensor(data_X[i]), \n",
        "                       y=torch.tensor(data_y[i])) for i in range(8000, 10000)]\n",
        "\n",
        "train_loader = DataLoader(train_data_list, batch_size=10, shuffle=True)\n",
        "test_loader = DataLoader(test_data_list, batch_size=10)\n",
        "\n",
        "model = PointNet() #initialize model\n",
        "optimizer = torch.optim.Adam(model.parameters(), lr=0.01) #optimizer\n",
        "loss_func = torch.nn.CrossEntropyLoss()  # loss function.\n",
        "\n",
        "def train(model, optimizer, loader):\n",
        "    model.train()\n",
        "    \n",
        "    total_loss = 0\n",
        "    for data_ in loader:\n",
        "        optimizer.zero_grad()  \n",
        "        #print(data_.batch)\n",
        "        pred = model(data_.pos.float(), data_.batch)  # forward pass.\n",
        "        loss = loss_func(pred, data_.y.long())  # compute loss\n",
        "        loss.backward()  # backward pass.\n",
        "        optimizer.step()  # Update model params.\n",
        "        total_loss += loss.item() * data_.num_graphs\n",
        "\n",
        "    return total_loss / len(train_loader.dataset)\n",
        "\n",
        "\n",
        "def test(model, loader):\n",
        "    model.eval()\n",
        "    with torch.no_grad():\n",
        "\n",
        "      total_correct = 0\n",
        "      for data in loader:\n",
        "          pred = model(data.pos.float(), data.batch)\n",
        "          pred = pred.argmax(dim=-1)\n",
        "          total_correct += int((pred == data.y).sum())\n",
        "\n",
        "    return total_correct / len(loader.dataset)\n",
        "\n",
        "for epoch in range(1, 20):\n",
        "    loss = train(model, optimizer, train_loader)\n",
        "    test_acc = test(model, test_loader)\n",
        "    print(f'Epoch: {epoch:02d}, Loss: {loss:.4f}, Test Accuracy: {test_acc:.4f}')"
      ],
      "execution_count": null,
      "outputs": [
        {
          "output_type": "stream",
          "text": [
            "8000\n",
            "4\n",
            "64\n"
          ],
          "name": "stdout"
        },
        {
          "output_type": "stream",
          "text": [
            "/usr/local/lib/python3.7/dist-packages/ipykernel_launcher.py:18: UserWarning: To copy construct from a tensor, it is recommended to use sourceTensor.clone().detach() or sourceTensor.clone().detach().requires_grad_(True), rather than torch.tensor(sourceTensor).\n"
          ],
          "name": "stderr"
        },
        {
          "output_type": "stream",
          "text": [
            "Epoch: 01, Loss: 0.8783, Test Accuracy: 0.7445\n",
            "Epoch: 02, Loss: 0.5384, Test Accuracy: 0.7150\n",
            "Epoch: 03, Loss: 0.5584, Test Accuracy: 0.7285\n",
            "Epoch: 04, Loss: 0.5492, Test Accuracy: 0.7305\n",
            "Epoch: 05, Loss: 0.5476, Test Accuracy: 0.7415\n",
            "Epoch: 06, Loss: 0.5555, Test Accuracy: 0.7410\n",
            "Epoch: 07, Loss: 0.5548, Test Accuracy: 0.7490\n",
            "Epoch: 08, Loss: 0.5543, Test Accuracy: 0.7245\n",
            "Epoch: 09, Loss: 0.5737, Test Accuracy: 0.7165\n",
            "Epoch: 10, Loss: 0.5652, Test Accuracy: 0.7185\n",
            "Epoch: 11, Loss: 0.5671, Test Accuracy: 0.7085\n",
            "Epoch: 12, Loss: 0.5589, Test Accuracy: 0.7350\n",
            "Epoch: 13, Loss: 0.5565, Test Accuracy: 0.6935\n",
            "Epoch: 14, Loss: 0.5630, Test Accuracy: 0.7425\n",
            "Epoch: 15, Loss: 0.5462, Test Accuracy: 0.7330\n",
            "Epoch: 16, Loss: 0.5602, Test Accuracy: 0.7230\n",
            "Epoch: 17, Loss: 0.5696, Test Accuracy: 0.7365\n",
            "Epoch: 18, Loss: 0.5590, Test Accuracy: 0.7310\n",
            "Epoch: 19, Loss: 0.5705, Test Accuracy: 0.7350\n"
          ],
          "name": "stdout"
        }
      ]
    },
    {
      "cell_type": "markdown",
      "metadata": {
        "id": "8ergUM-XVl7p"
      },
      "source": [
        "The max multiplicity, M=134 is considered as the nodes for constructing the edge indices,  where 4 is the dimensionality representation of each node, i.e.,  pt, rapidity, \n",
        "azimuthal angle, and pdgid."
      ]
    }
  ]
}